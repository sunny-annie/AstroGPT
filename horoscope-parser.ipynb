{
 "cells": [
  {
   "cell_type": "code",
   "execution_count": 2,
   "metadata": {
    "_cell_guid": "b1076dfc-b9ad-4769-8c92-a6c4dae69d19",
    "_uuid": "8f2839f25d086af736a60e9eeb907d3b93b6e0e5",
    "execution": {
     "iopub.execute_input": "2023-07-27T05:27:38.778517Z",
     "iopub.status.busy": "2023-07-27T05:27:38.778060Z",
     "iopub.status.idle": "2023-07-27T05:27:39.095278Z",
     "shell.execute_reply": "2023-07-27T05:27:39.093676Z",
     "shell.execute_reply.started": "2023-07-27T05:27:38.778478Z"
    },
    "trusted": true
   },
   "outputs": [],
   "source": [
    "import asyncio\n",
    "import aiohttp\n",
    "import pandas as pd\n",
    "from bs4 import BeautifulSoup\n",
    "from tqdm import tqdm\n",
    "from datetime import datetime, timedelta\n",
    "from tqdm import tqdm\n",
    "import nest_asyncio\n",
    "nest_asyncio.apply()"
   ]
  },
  {
   "cell_type": "code",
   "execution_count": null,
   "metadata": {
    "_cell_guid": "b1076dfc-b9ad-4769-8c92-a6c4dae69d19",
    "_kg_hide-output": true,
    "_uuid": "8f2839f25d086af736a60e9eeb907d3b93b6e0e5",
    "trusted": true
   },
   "outputs": [],
   "source": [
    "async def fetch(session, url):\n",
    "    async with session.get(url) as response:\n",
    "        return await response.text()\n",
    "    \n",
    "\n",
    "async def process_horoscope(session, home_url, date, sign):\n",
    "    url = f'{home_url}{sign}/{date}/'\n",
    "    async with session.get(url) as response:\n",
    "\n",
    "        try:\n",
    "            html = await response.text()\n",
    "            soup = BeautifulSoup(html, 'html.parser')\n",
    "            horoscope_text = soup.find('p', class_='mtZOt')\n",
    "            if horoscope_text is not None:\n",
    "                horoscope_text = horoscope_text.get_text()\n",
    "                return {'date': date, 'sign': sign, 'text': horoscope_text}\n",
    "        except:\n",
    "            pass\n",
    "    \n",
    "\n",
    "async def main():\n",
    "    DF = pd.DataFrame(columns=['date', 'sign', 'text'])\n",
    "    \n",
    "    home_url = \"https://horoscopes.rambler.ru/\"\n",
    "\n",
    "    start_date = datetime(2004, 1, 1)\n",
    "    end_date = datetime(2023, 8, 31)\n",
    "    date_list = []\n",
    "    current_date = start_date\n",
    "    while current_date <= end_date:\n",
    "        date_list.append(current_date.strftime('%Y-%m-%d'))\n",
    "        current_date += timedelta(days=1)\n",
    "\n",
    "    signs = ['aries', 'taurus', 'gemini', 'cancer', 'leo', 'virgo', 'libra',\n",
    "         'scorpio', 'sagittarius', 'capricorn', 'aquarius', 'pisces']\n",
    "\n",
    "    async with aiohttp.ClientSession() as session:\n",
    "        for date in tqdm(date_list):\n",
    "            tasks = [process_horoscope(session, home_url, date, sign) for sign in signs]\n",
    "            results = await asyncio.gather(*tasks)        \n",
    "\n",
    "            df = pd.DataFrame(results)\n",
    "            DF = pd.concat([DF, df], ignore_index=True)\n",
    "\n",
    "    DF.to_csv(f\"horoscopes_{start_date.strftime('%Y%m%d')}-{end_date.strftime('%Y%m%d')}.csv\")\n",
    "    print(DF)\n",
    "\n",
    "loop = asyncio.get_event_loop()\n",
    "loop.run_until_complete(main())"
   ]
  }
 ],
 "metadata": {
  "kernelspec": {
   "display_name": "Python 3",
   "language": "python",
   "name": "python3"
  },
  "language_info": {
   "codemirror_mode": {
    "name": "ipython",
    "version": 3
   },
   "file_extension": ".py",
   "mimetype": "text/x-python",
   "name": "python",
   "nbconvert_exporter": "python",
   "pygments_lexer": "ipython3",
   "version": "3.10.12"
  }
 },
 "nbformat": 4,
 "nbformat_minor": 4
}
