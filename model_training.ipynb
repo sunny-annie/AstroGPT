{
 "cells": [
  {
   "cell_type": "code",
   "execution_count": 2,
   "metadata": {
    "_cell_guid": "b1076dfc-b9ad-4769-8c92-a6c4dae69d19",
    "_uuid": "8f2839f25d086af736a60e9eeb907d3b93b6e0e5",
    "execution": {
     "iopub.execute_input": "2023-07-29T14:34:17.799879Z",
     "iopub.status.busy": "2023-07-29T14:34:17.799590Z",
     "iopub.status.idle": "2023-07-29T14:34:28.872641Z",
     "shell.execute_reply": "2023-07-29T14:34:28.871257Z",
     "shell.execute_reply.started": "2023-07-29T14:34:17.799851Z"
    },
    "trusted": true
   },
   "outputs": [],
   "source": [
    "!pip install -q transformers"
   ]
  },
  {
   "cell_type": "code",
   "execution_count": 3,
   "metadata": {
    "execution": {
     "iopub.execute_input": "2023-07-29T14:34:28.875225Z",
     "iopub.status.busy": "2023-07-29T14:34:28.874787Z",
     "iopub.status.idle": "2023-07-29T14:34:31.753427Z",
     "shell.execute_reply": "2023-07-29T14:34:31.752459Z",
     "shell.execute_reply.started": "2023-07-29T14:34:28.875168Z"
    },
    "trusted": true
   },
   "outputs": [],
   "source": [
    "import numpy as np\n",
    "import pandas as pd\n",
    "import re\n",
    "import textwrap\n",
    "import torch\n",
    "import transformers\n",
    "from torch.optim import AdamW\n",
    "from tqdm.notebook import tqdm\n",
    "\n",
    "import warnings\n",
    "warnings.filterwarnings(\"ignore\", category=Warning)\n",
    "\n",
    "device = 'cuda' if torch.cuda.is_available() else 'cpu'"
   ]
  },
  {
   "cell_type": "code",
   "execution_count": 4,
   "metadata": {
    "execution": {
     "iopub.execute_input": "2023-07-29T14:34:42.780313Z",
     "iopub.status.busy": "2023-07-29T14:34:42.779649Z",
     "iopub.status.idle": "2023-07-29T14:34:45.324192Z",
     "shell.execute_reply": "2023-07-29T14:34:45.323177Z",
     "shell.execute_reply.started": "2023-07-29T14:34:42.780275Z"
    },
    "trusted": true
   },
   "outputs": [
    {
     "data": {
      "application/vnd.jupyter.widget-view+json": {
       "model_id": "f5b8be4745624022bc0ea2fa51195b94",
       "version_major": 2,
       "version_minor": 0
      },
      "text/plain": [
       "Downloading (…)olve/main/vocab.json:   0%|          | 0.00/1.71M [00:00<?, ?B/s]"
      ]
     },
     "metadata": {},
     "output_type": "display_data"
    },
    {
     "data": {
      "application/vnd.jupyter.widget-view+json": {
       "model_id": "27d621b8e7c646eeb183426a3e0c49d9",
       "version_major": 2,
       "version_minor": 0
      },
      "text/plain": [
       "Downloading (…)olve/main/merges.txt:   0%|          | 0.00/1.27M [00:00<?, ?B/s]"
      ]
     },
     "metadata": {},
     "output_type": "display_data"
    },
    {
     "data": {
      "application/vnd.jupyter.widget-view+json": {
       "model_id": "63ce08f60ad44cfb82ed2ebf1a309cbe",
       "version_major": 2,
       "version_minor": 0
      },
      "text/plain": [
       "Downloading (…)lve/main/config.json:   0%|          | 0.00/608 [00:00<?, ?B/s]"
      ]
     },
     "metadata": {},
     "output_type": "display_data"
    }
   ],
   "source": [
    "from transformers import GPT2Tokenizer\n",
    "tokenizer = GPT2Tokenizer.from_pretrained('sberbank-ai/rugpt3small_based_on_gpt2')"
   ]
  },
  {
   "cell_type": "code",
   "execution_count": 5,
   "metadata": {
    "execution": {
     "iopub.execute_input": "2023-07-29T14:34:50.483713Z",
     "iopub.status.busy": "2023-07-29T14:34:50.483340Z",
     "iopub.status.idle": "2023-07-29T14:34:52.102299Z",
     "shell.execute_reply": "2023-07-29T14:34:52.101383Z",
     "shell.execute_reply.started": "2023-07-29T14:34:50.483682Z"
    },
    "trusted": true
   },
   "outputs": [
    {
     "data": {
      "text/html": [
       "<div>\n",
       "<style scoped>\n",
       "    .dataframe tbody tr th:only-of-type {\n",
       "        vertical-align: middle;\n",
       "    }\n",
       "\n",
       "    .dataframe tbody tr th {\n",
       "        vertical-align: top;\n",
       "    }\n",
       "\n",
       "    .dataframe thead th {\n",
       "        text-align: right;\n",
       "    }\n",
       "</style>\n",
       "<table border=\"1\" class=\"dataframe\">\n",
       "  <thead>\n",
       "    <tr style=\"text-align: right;\">\n",
       "      <th></th>\n",
       "      <th>date</th>\n",
       "      <th>sign</th>\n",
       "      <th>text</th>\n",
       "    </tr>\n",
       "  </thead>\n",
       "  <tbody>\n",
       "    <tr>\n",
       "      <th>82526</th>\n",
       "      <td>2023-08-31</td>\n",
       "      <td>gemini</td>\n",
       "      <td>Близнецам сегодня лучше не строить новые планы...</td>\n",
       "    </tr>\n",
       "    <tr>\n",
       "      <th>82527</th>\n",
       "      <td>2023-08-31</td>\n",
       "      <td>cancer</td>\n",
       "      <td>Для Раков это информативный день, но им желате...</td>\n",
       "    </tr>\n",
       "    <tr>\n",
       "      <th>82528</th>\n",
       "      <td>2023-08-31</td>\n",
       "      <td>leo</td>\n",
       "      <td>Сегодня звезды советуют Львам относиться внима...</td>\n",
       "    </tr>\n",
       "    <tr>\n",
       "      <th>82529</th>\n",
       "      <td>2023-08-31</td>\n",
       "      <td>virgo</td>\n",
       "      <td>Сегодня Девам лучше не ждать полной откровенно...</td>\n",
       "    </tr>\n",
       "    <tr>\n",
       "      <th>82530</th>\n",
       "      <td>2023-08-31</td>\n",
       "      <td>libra</td>\n",
       "      <td>Сегодня звезды советуют Весам заняться преодол...</td>\n",
       "    </tr>\n",
       "    <tr>\n",
       "      <th>82531</th>\n",
       "      <td>2023-08-31</td>\n",
       "      <td>scorpio</td>\n",
       "      <td>Сегодня у Скорпионов появляется шанс обрести д...</td>\n",
       "    </tr>\n",
       "    <tr>\n",
       "      <th>82532</th>\n",
       "      <td>2023-08-31</td>\n",
       "      <td>sagittarius</td>\n",
       "      <td>Этот день может сделать Стрельцов скрытными, с...</td>\n",
       "    </tr>\n",
       "    <tr>\n",
       "      <th>82533</th>\n",
       "      <td>2023-08-31</td>\n",
       "      <td>capricorn</td>\n",
       "      <td>Сегодня Козерогам стоит проверять все поступаю...</td>\n",
       "    </tr>\n",
       "    <tr>\n",
       "      <th>82534</th>\n",
       "      <td>2023-08-31</td>\n",
       "      <td>aquarius</td>\n",
       "      <td>Сегодня звезды рекомендуют Водолеям контролиро...</td>\n",
       "    </tr>\n",
       "    <tr>\n",
       "      <th>82535</th>\n",
       "      <td>2023-08-31</td>\n",
       "      <td>pisces</td>\n",
       "      <td>Сегодня звезды советуют Рыбам не уходить от ра...</td>\n",
       "    </tr>\n",
       "  </tbody>\n",
       "</table>\n",
       "</div>"
      ],
      "text/plain": [
       "             date         sign  \\\n",
       "82526  2023-08-31       gemini   \n",
       "82527  2023-08-31       cancer   \n",
       "82528  2023-08-31          leo   \n",
       "82529  2023-08-31        virgo   \n",
       "82530  2023-08-31        libra   \n",
       "82531  2023-08-31      scorpio   \n",
       "82532  2023-08-31  sagittarius   \n",
       "82533  2023-08-31    capricorn   \n",
       "82534  2023-08-31     aquarius   \n",
       "82535  2023-08-31       pisces   \n",
       "\n",
       "                                                    text  \n",
       "82526  Близнецам сегодня лучше не строить новые планы...  \n",
       "82527  Для Раков это информативный день, но им желате...  \n",
       "82528  Сегодня звезды советуют Львам относиться внима...  \n",
       "82529  Сегодня Девам лучше не ждать полной откровенно...  \n",
       "82530  Сегодня звезды советуют Весам заняться преодол...  \n",
       "82531  Сегодня у Скорпионов появляется шанс обрести д...  \n",
       "82532  Этот день может сделать Стрельцов скрытными, с...  \n",
       "82533  Сегодня Козерогам стоит проверять все поступаю...  \n",
       "82534  Сегодня звезды рекомендуют Водолеям контролиро...  \n",
       "82535  Сегодня звезды советуют Рыбам не уходить от ра...  "
      ]
     },
     "execution_count": 5,
     "metadata": {},
     "output_type": "execute_result"
    }
   ],
   "source": [
    "path = '/kaggle/input/horoscope/horoscope.csv'\n",
    "df = pd.read_csv(path)\n",
    "df.tail(10)"
   ]
  },
  {
   "cell_type": "code",
   "execution_count": 6,
   "metadata": {
    "execution": {
     "iopub.execute_input": "2023-07-29T14:35:00.377624Z",
     "iopub.status.busy": "2023-07-29T14:35:00.377000Z",
     "iopub.status.idle": "2023-07-29T14:35:00.444367Z",
     "shell.execute_reply": "2023-07-29T14:35:00.443097Z",
     "shell.execute_reply.started": "2023-07-29T14:35:00.377589Z"
    },
    "trusted": true
   },
   "outputs": [],
   "source": [
    "text = ' '.join(df['text'].values)"
   ]
  },
  {
   "cell_type": "code",
   "execution_count": 7,
   "metadata": {
    "execution": {
     "iopub.execute_input": "2023-07-29T14:35:02.319286Z",
     "iopub.status.busy": "2023-07-29T14:35:02.318858Z",
     "iopub.status.idle": "2023-07-29T14:35:02.326590Z",
     "shell.execute_reply": "2023-07-29T14:35:02.325451Z",
     "shell.execute_reply.started": "2023-07-29T14:35:02.319250Z"
    },
    "trusted": true
   },
   "outputs": [
    {
     "data": {
      "text/plain": [
       "34384397"
      ]
     },
     "execution_count": 7,
     "metadata": {},
     "output_type": "execute_result"
    }
   ],
   "source": [
    "len(text)"
   ]
  },
  {
   "cell_type": "code",
   "execution_count": 8,
   "metadata": {
    "execution": {
     "iopub.execute_input": "2023-07-29T14:35:03.890512Z",
     "iopub.status.busy": "2023-07-29T14:35:03.889451Z",
     "iopub.status.idle": "2023-07-29T14:36:34.704535Z",
     "shell.execute_reply": "2023-07-29T14:36:34.703469Z",
     "shell.execute_reply.started": "2023-07-29T14:35:03.890474Z"
    },
    "trusted": true
   },
   "outputs": [
    {
     "name": "stdout",
     "output_type": "stream",
     "text": [
      "6668406\n"
     ]
    },
    {
     "data": {
      "text/plain": [
       "array([37653,   839, 39588,   567,  1054,  4912,  2493,   329,   379,\n",
       "         297])"
      ]
     },
     "execution_count": 8,
     "metadata": {},
     "output_type": "execute_result"
    }
   ],
   "source": [
    "tokens = tokenizer.encode(text, add_special_tokens=True) # токенизация\n",
    "tokens = np.array(tokens)\n",
    "print(len(tokens))\n",
    "tokens[:10]"
   ]
  },
  {
   "cell_type": "code",
   "execution_count": 9,
   "metadata": {
    "execution": {
     "iopub.execute_input": "2023-07-29T14:36:34.709470Z",
     "iopub.status.busy": "2023-07-29T14:36:34.706711Z",
     "iopub.status.idle": "2023-07-29T14:36:35.899449Z",
     "shell.execute_reply": "2023-07-29T14:36:35.898457Z",
     "shell.execute_reply.started": "2023-07-29T14:36:34.709413Z"
    },
    "trusted": true
   },
   "outputs": [
    {
     "name": "stdout",
     "output_type": "stream",
     "text": [
      "6668406 5334720 1333680\n"
     ]
    }
   ],
   "source": [
    "# делим на train и test\n",
    "\n",
    "ttl = len(tokens)//15 \n",
    "train = []\n",
    "test = []\n",
    "for i in range(15):\n",
    "    if i%5 > 0:\n",
    "        train.extend(tokens[i*ttl: (i+1)*ttl])\n",
    "    else:\n",
    "        test.extend(tokens[i*ttl: (i+1)*ttl])\n",
    "train = np.array(train)\n",
    "test = np.array(test)\n",
    "\n",
    "print(len(tokens), len(train), len(test))"
   ]
  },
  {
   "cell_type": "code",
   "execution_count": 10,
   "metadata": {
    "execution": {
     "iopub.execute_input": "2023-07-29T14:36:35.901499Z",
     "iopub.status.busy": "2023-07-29T14:36:35.901107Z",
     "iopub.status.idle": "2023-07-29T14:36:54.616243Z",
     "shell.execute_reply": "2023-07-29T14:36:54.615174Z",
     "shell.execute_reply.started": "2023-07-29T14:36:35.901464Z"
    },
    "trusted": true
   },
   "outputs": [
    {
     "data": {
      "application/vnd.jupyter.widget-view+json": {
       "model_id": "6787f727bcc249568ef265a08dc87309",
       "version_major": 2,
       "version_minor": 0
      },
      "text/plain": [
       "Downloading pytorch_model.bin:   0%|          | 0.00/551M [00:00<?, ?B/s]"
      ]
     },
     "metadata": {},
     "output_type": "display_data"
    },
    {
     "data": {
      "text/plain": [
       "GPT2LMHeadModel(\n",
       "  (transformer): GPT2Model(\n",
       "    (wte): Embedding(50264, 768)\n",
       "    (wpe): Embedding(2048, 768)\n",
       "    (drop): Dropout(p=0.1, inplace=False)\n",
       "    (h): ModuleList(\n",
       "      (0-11): 12 x GPT2Block(\n",
       "        (ln_1): LayerNorm((768,), eps=1e-05, elementwise_affine=True)\n",
       "        (attn): GPT2Attention(\n",
       "          (c_attn): Conv1D()\n",
       "          (c_proj): Conv1D()\n",
       "          (attn_dropout): Dropout(p=0.1, inplace=False)\n",
       "          (resid_dropout): Dropout(p=0.1, inplace=False)\n",
       "        )\n",
       "        (ln_2): LayerNorm((768,), eps=1e-05, elementwise_affine=True)\n",
       "        (mlp): GPT2MLP(\n",
       "          (c_fc): Conv1D()\n",
       "          (c_proj): Conv1D()\n",
       "          (act): NewGELUActivation()\n",
       "          (dropout): Dropout(p=0.1, inplace=False)\n",
       "        )\n",
       "      )\n",
       "    )\n",
       "    (ln_f): LayerNorm((768,), eps=1e-05, elementwise_affine=True)\n",
       "  )\n",
       "  (lm_head): Linear(in_features=768, out_features=50264, bias=False)\n",
       ")"
      ]
     },
     "execution_count": 10,
     "metadata": {},
     "output_type": "execute_result"
    }
   ],
   "source": [
    "from transformers import GPT2LMHeadModel\n",
    "\n",
    "\n",
    "model = GPT2LMHeadModel.from_pretrained(\n",
    "    'sberbank-ai/rugpt3small_based_on_gpt2',\n",
    "    output_attentions = False,\n",
    "    output_hidden_states = False,\n",
    ")\n",
    "\n",
    "model.to(device)"
   ]
  },
  {
   "cell_type": "code",
   "execution_count": 11,
   "metadata": {
    "execution": {
     "iopub.execute_input": "2023-07-29T14:36:54.619240Z",
     "iopub.status.busy": "2023-07-29T14:36:54.618842Z",
     "iopub.status.idle": "2023-07-29T14:36:54.634701Z",
     "shell.execute_reply": "2023-07-29T14:36:54.633434Z",
     "shell.execute_reply.started": "2023-07-29T14:36:54.619205Z"
    },
    "trusted": true
   },
   "outputs": [
    {
     "name": "stdout",
     "output_type": "stream",
     "text": [
      "5209 1302\n"
     ]
    }
   ],
   "source": [
    "batch_size = 8\n",
    "max_len = 128\n",
    "epochs = 5\n",
    "\n",
    "n_train = len(train)//(batch_size*max_len)\n",
    "n_test = len(test)//(batch_size*max_len)\n",
    "print(n_train, n_test)\n",
    "\n",
    "optimizer = AdamW(model.parameters(), lr = 1e-5)\n",
    "\n",
    "total_steps = n_train * epochs\n",
    "scheduler = transformers.get_linear_schedule_with_warmup(\n",
    "                                            optimizer,\n",
    "                                            num_warmup_steps=500,\n",
    "                                            num_training_steps=total_steps)\n",
    "\n",
    "# задаем точность\n",
    "def accuracy(y_true, logits):\n",
    "    return torch.mean((y_true[1:] == torch.argmax(logits, dim=2)[:-1]).float()).detach().cpu().numpy()"
   ]
  },
  {
   "cell_type": "code",
   "execution_count": 12,
   "metadata": {
    "execution": {
     "iopub.execute_input": "2023-07-29T14:36:54.636659Z",
     "iopub.status.busy": "2023-07-29T14:36:54.636306Z",
     "iopub.status.idle": "2023-07-29T14:36:54.655436Z",
     "shell.execute_reply": "2023-07-29T14:36:54.654422Z",
     "shell.execute_reply.started": "2023-07-29T14:36:54.636627Z"
    },
    "trusted": true
   },
   "outputs": [],
   "source": [
    "# готовим тензоры\n",
    "def prep_tensors(x, i, batch_size=batch_size, max_len=max_len):\n",
    "    batch_ids = x[i*batch_size*max_len: (i+1)*batch_size*max_len]\n",
    "    batch_ids = batch_ids.reshape(batch_size, max_len)\n",
    "    batch_ids = torch.tensor(batch_ids).to(device)\n",
    "    return batch_ids"
   ]
  },
  {
   "cell_type": "code",
   "execution_count": 13,
   "metadata": {
    "execution": {
     "iopub.execute_input": "2023-07-29T14:36:54.658854Z",
     "iopub.status.busy": "2023-07-29T14:36:54.658042Z",
     "iopub.status.idle": "2023-07-29T15:56:40.110242Z",
     "shell.execute_reply": "2023-07-29T15:56:40.109209Z",
     "shell.execute_reply.started": "2023-07-29T14:36:54.658777Z"
    },
    "trusted": true
   },
   "outputs": [
    {
     "name": "stdout",
     "output_type": "stream",
     "text": [
      "epoch 1/5 : training\n"
     ]
    },
    {
     "data": {
      "application/vnd.jupyter.widget-view+json": {
       "model_id": "44dafb50e25945d1bda368ec67d31298",
       "version_major": 2,
       "version_minor": 0
      },
      "text/plain": [
       "  0%|          | 0/5209 [00:00<?, ?it/s]"
      ]
     },
     "metadata": {},
     "output_type": "display_data"
    },
    {
     "name": "stdout",
     "output_type": "stream",
     "text": [
      "epoch 1/5 : validation\n"
     ]
    },
    {
     "data": {
      "application/vnd.jupyter.widget-view+json": {
       "model_id": "b7dcbccbce43497abcd56e3b9ce6a0ef",
       "version_major": 2,
       "version_minor": 0
      },
      "text/plain": [
       "  0%|          | 0/1302 [00:00<?, ?it/s]"
      ]
     },
     "metadata": {},
     "output_type": "display_data"
    },
    {
     "name": "stdout",
     "output_type": "stream",
     "text": [
      "epoch 2/5 : training\n"
     ]
    },
    {
     "data": {
      "application/vnd.jupyter.widget-view+json": {
       "model_id": "463473bce9ac46048e23dffd5f096074",
       "version_major": 2,
       "version_minor": 0
      },
      "text/plain": [
       "  0%|          | 0/5209 [00:00<?, ?it/s]"
      ]
     },
     "metadata": {},
     "output_type": "display_data"
    },
    {
     "name": "stdout",
     "output_type": "stream",
     "text": [
      "epoch 2/5 : validation\n"
     ]
    },
    {
     "data": {
      "application/vnd.jupyter.widget-view+json": {
       "model_id": "ffd5866eaddd47b6831d9cf103bf6f5b",
       "version_major": 2,
       "version_minor": 0
      },
      "text/plain": [
       "  0%|          | 0/1302 [00:00<?, ?it/s]"
      ]
     },
     "metadata": {},
     "output_type": "display_data"
    },
    {
     "name": "stdout",
     "output_type": "stream",
     "text": [
      "epoch 3/5 : training\n"
     ]
    },
    {
     "data": {
      "application/vnd.jupyter.widget-view+json": {
       "model_id": "90370a3b59014c8ebbfb8f2069983a61",
       "version_major": 2,
       "version_minor": 0
      },
      "text/plain": [
       "  0%|          | 0/5209 [00:00<?, ?it/s]"
      ]
     },
     "metadata": {},
     "output_type": "display_data"
    },
    {
     "name": "stdout",
     "output_type": "stream",
     "text": [
      "epoch 3/5 : validation\n"
     ]
    },
    {
     "data": {
      "application/vnd.jupyter.widget-view+json": {
       "model_id": "da678501b5474aa3ad68c8af6714d374",
       "version_major": 2,
       "version_minor": 0
      },
      "text/plain": [
       "  0%|          | 0/1302 [00:00<?, ?it/s]"
      ]
     },
     "metadata": {},
     "output_type": "display_data"
    },
    {
     "name": "stdout",
     "output_type": "stream",
     "text": [
      "epoch 4/5 : training\n"
     ]
    },
    {
     "data": {
      "application/vnd.jupyter.widget-view+json": {
       "model_id": "e25297f6fe8d492b96aa31ae94caf5a7",
       "version_major": 2,
       "version_minor": 0
      },
      "text/plain": [
       "  0%|          | 0/5209 [00:00<?, ?it/s]"
      ]
     },
     "metadata": {},
     "output_type": "display_data"
    },
    {
     "name": "stdout",
     "output_type": "stream",
     "text": [
      "epoch 4/5 : validation\n"
     ]
    },
    {
     "data": {
      "application/vnd.jupyter.widget-view+json": {
       "model_id": "002bbafd377d4bf39def75e74fbacdbf",
       "version_major": 2,
       "version_minor": 0
      },
      "text/plain": [
       "  0%|          | 0/1302 [00:00<?, ?it/s]"
      ]
     },
     "metadata": {},
     "output_type": "display_data"
    },
    {
     "name": "stdout",
     "output_type": "stream",
     "text": [
      "epoch 5/5 : training\n"
     ]
    },
    {
     "data": {
      "application/vnd.jupyter.widget-view+json": {
       "model_id": "88ee610950a54ff48c538b9cab881658",
       "version_major": 2,
       "version_minor": 0
      },
      "text/plain": [
       "  0%|          | 0/5209 [00:00<?, ?it/s]"
      ]
     },
     "metadata": {},
     "output_type": "display_data"
    },
    {
     "name": "stdout",
     "output_type": "stream",
     "text": [
      "epoch 5/5 : validation\n"
     ]
    },
    {
     "data": {
      "application/vnd.jupyter.widget-view+json": {
       "model_id": "5c6deda852f74f44a3e637b751c07add",
       "version_major": 2,
       "version_minor": 0
      },
      "text/plain": [
       "  0%|          | 0/1302 [00:00<?, ?it/s]"
      ]
     },
     "metadata": {},
     "output_type": "display_data"
    }
   ],
   "source": [
    "# обучаем модель\n",
    "for epoch in range(1, epochs+1):\n",
    "    print(f'epoch {epoch}/{epochs} : training')\n",
    "\n",
    "    train_loss = []\n",
    "    train_acc = []\n",
    "    model.train()\n",
    "    pbar = tqdm(range(n_train))\n",
    "    for i in pbar:\n",
    "        batch_ids = prep_tensors(train, i)\n",
    "\n",
    "        model.zero_grad()\n",
    "        loss, logits, _ = model(batch_ids,\n",
    "                                token_type_ids=None,\n",
    "                                labels=batch_ids\n",
    "                             ).values()\n",
    "\n",
    "        loss.backward()\n",
    "        torch.nn.utils.clip_grad_norm_(model.parameters(), 1.0)\n",
    "        optimizer.step()\n",
    "        scheduler.step()\n",
    "\n",
    "        train_loss.append(loss.item())\n",
    "        train_acc.append(accuracy(batch_ids, logits))\n",
    "        pbar.set_description(f'acc {np.mean(train_acc):.4f} loss {np.mean(train_loss):.4f}', refresh=True)\n",
    "\n",
    "    torch.save(model.state_dict(), f'model{epoch}.pt')\n",
    "    torch.save(model, f'entire_model{epoch}.pt')\n",
    "\n",
    "    print(f'epoch {epoch}/{epochs} : validation')\n",
    "    model.eval()\n",
    "    val_acc = []\n",
    "    val_loss = []\n",
    "    pbar = tqdm(range(n_test))\n",
    "    for i in pbar:\n",
    "        batch_ids = prep_tensors(test, i)\n",
    "        with torch.no_grad():\n",
    "            loss, logits, _ = model(batch_ids,\n",
    "                                token_type_ids=None,\n",
    "                                labels=batch_ids\n",
    "                                 ).values()\n",
    "\n",
    "        val_loss.append(loss.item())\n",
    "        val_acc.append(accuracy(batch_ids, logits))\n",
    "        pbar.set_description(f'acc {np.mean(val_acc):.4f} loss {np.mean(val_loss):.4f}', refresh=True)\n"
   ]
  },
  {
   "cell_type": "code",
   "execution_count": 15,
   "metadata": {
    "execution": {
     "iopub.execute_input": "2023-07-29T16:08:33.370286Z",
     "iopub.status.busy": "2023-07-29T16:08:33.369852Z",
     "iopub.status.idle": "2023-07-29T16:08:36.567757Z",
     "shell.execute_reply": "2023-07-29T16:08:36.566128Z",
     "shell.execute_reply.started": "2023-07-29T16:08:33.370251Z"
    },
    "trusted": true
   },
   "outputs": [
    {
     "name": "stderr",
     "output_type": "stream",
     "text": [
      "The attention mask and the pad token id were not set. As a consequence, you may observe unexpected behavior. Please pass your input's `attention_mask` to obtain reliable results.\n",
      "Setting `pad_token_id` to `eos_token_id`:50256 for open-end generation.\n"
     ]
    },
    {
     "name": "stdout",
     "output_type": "stream",
     "text": [
      "Рыбы могут провести день в гордом одиночестве – это не лучший момент для романтических свиданий и\n",
      "новых знакомств. Сегодня Овнам не стоит браться за новые дела – они могут быть отложены на долгий\n",
      "ящик. Лучше займитесь чем-то интересным и полезным, например, общайтесь с единомышленниками –\n",
      "сегодня вы точно добьетесь успеха. Полезно общаться с друзьями – в этот день вы можете найти новых\n",
      "друзей и единомышленников, которые вдохновят вас на новые проекты.\n",
      "------------------\n",
      "Рыбы сегодня будут в центре внимания, если не сказать – в самой гуще событий. Сегодня Овнам стоит\n",
      "быть готовыми к тому, что некоторые ситуации будут складываться не в вашу пользу. Так что\n",
      "ввязывайтесь в авантюры и начинайте что-то новое – только так вы сможете продвинуться по карьерной\n",
      "лестнице. Также звезды советуют в этот день прислушиваться к своим ощущениям, чтобы не совершить\n",
      "ошибок. Не стоит откладывать важные дела на завтра – сейчас они могут повлиять на вашу карьеру.\n",
      "------------------\n",
      "Рыбы сегодня будут действовать импульсивно и напористо, и звезды советуют не расслабляться, чтобы не\n",
      "дать им разрулить ситуацию. В этот день стоит быть начеку: кто-то может незаметно подставить вам\n",
      "подножку, поэтому держитесь подальше от тех, кому вы доверились. Не стоит ждать от себя многого,\n",
      "иначе в будущем вы пожалеете об этом. Полезно общаться с друзьями – они могут вдохновить вас на\n",
      "новые свершения.\n",
      "------------------\n",
      "Рыбы сегодня могут рассчитывать на счастливый случай или на помощь со стороны. Звезды советуют не\n",
      "сидеть на месте – двигайтесь вперед и добивайтесь своих целей. Сегодня звезды советуют Водолеям не\n",
      "бояться трудностей – все они решаемы и даже очень. Так что не теряйте времени зря и занимайтесь тем,\n",
      "что у вас получается на все сто процентов. Вообще, в этот день вы со всем справитесь, даже если\n",
      "придется бегать в три ноги.\n",
      "------------------\n",
      "Рыбы сегодня будут чувствовать себя не так, как обычно. Но это не значит, что все будет плохо –\n",
      "наоборот, будет много приятных моментов. Так что не забывайте об этом, и все получится. Гороскоп на\n",
      "сегодня для знака Рыб советует быть осторожнее в финансовых вопросах – можете принять неверное\n",
      "решение. Сегодня Овны могут рассчитывать на везение – удача обязательно улыбнется вам в самый\n",
      "неподходящий момент. А вот тратить деньги в этот день нежелательно – можно потратить слишком много\n",
      "денег зря.\n",
      "------------------\n",
      "Рыбы могут рассчитывать на благоприятный поворот событий. Сегодня у вас много энергии, и вы готовы\n",
      "свернуть горы, если вам это нужно, но стоит быть готовым к тому, что ваша энергия уйдет в другое\n",
      "русло – например, в спорт или в творчество. Также не стоит забывать и о близких – они нуждаются в\n",
      "вашем внимании. Гороскоп на сегодня для знака Овна советует чаще общаться с близкими и любимыми –\n",
      "это поможет вам расслабиться и перезагрузиться, а это обязательно поможет в текущих делах.\n",
      "------------------\n",
      "Рыбы сегодня будут удачливы в делах и в любви, что позволит им добиться многого и даже превзойти\n",
      "конкурентов. Но в то же время стоит быть осторожнее в общении с незнакомцами – они могут стать\n",
      "вашими врагами. В отношениях тоже есть свои проблемы, так что не спешите их решать. Гороскоп на\n",
      "сегодня для знака Овна советует быть внимательнее к мелочам – возможно, сегодня кто-то захочет\n",
      "воспользоваться вашей добротой или доверием.\n",
      "------------------\n",
      "Рыбы, рожденные под знаком Рыб, могут надеяться на успех в делах. Сегодня Овнам стоит быть\n",
      "осторожнее в разговорах с коллегами и партнерами – это может привести к конфликту. Также в этот день\n",
      "лучше больше думать о деньгах – сейчас вы можете потратить больше, чем планировали, и это даст вам\n",
      "хороший стимул двигаться вперед. Полезно заводить новые знакомства – они принесут вам много\n",
      "хорошего.\n",
      "------------------\n",
      "Рыбы могут рассчитывать на успех в делах, но звезды советуют прислушаться к интуиции – она\n",
      "подскажет, как добиться успеха. Сегодня Овнам не стоит сидеть на месте – беритесь за те дела,\n",
      "которые можно довести до победного конца. А вот на любовном фронте стоит быть осторожнее, чтобы не\n",
      "поссориться с любимыми. Гороскоп на сегодня для знака Овна советует подстраиваться под других – так\n",
      "вы добьетесь своего, а не потратите время зря.\n",
      "------------------\n",
      "Рыбы могут рассчитывать на материальную помощь от партнеров или близких людей, а также на помощь со\n",
      "стороны близких и любимых. Сегодня Овнам стоит быть осторожнее в делах, особенно в финансовых. Вы\n",
      "можете упустить хорошие возможности и не воспользоваться шансом. Также звезды советуют обратить\n",
      "внимание на свои привычки – сейчас они играют большую роль. Не стоит сидеть сложа руки, беритесь за\n",
      "что-то новое – это обязательно сбудется. Главное – верить в себя, двигаться вперед, и все получится.\n",
      "------------------\n"
     ]
    }
   ],
   "source": [
    "with torch.inference_mode():\n",
    "    prompt = \"\"\"Рыбы\"\"\"\n",
    "    prompt = tokenizer.encode(prompt, return_tensors='pt').to(device)\n",
    "    out = model.generate(\n",
    "        input_ids=prompt,\n",
    "        max_length=100,\n",
    "        num_beams=5,\n",
    "        do_sample=True,\n",
    "        temperature=1.5,\n",
    "        top_k=100,\n",
    "        top_p=0.8,\n",
    "        no_repeat_ngram_size=2,\n",
    "        num_return_sequences=10,\n",
    "        ).cpu().numpy()\n",
    "    for out_ in out:\n",
    "        txt = textwrap.fill(tokenizer.decode(out_), 100)\n",
    "        print('.'.join(txt.split('.')[:-1]) + '.', end='\\n------------------\\n')"
   ]
  },
  {
   "cell_type": "code",
   "execution_count": 16,
   "metadata": {
    "execution": {
     "iopub.execute_input": "2023-07-29T16:09:10.997889Z",
     "iopub.status.busy": "2023-07-29T16:09:10.997156Z",
     "iopub.status.idle": "2023-07-29T16:09:11.060433Z",
     "shell.execute_reply": "2023-07-29T16:09:11.059313Z",
     "shell.execute_reply.started": "2023-07-29T16:09:10.997851Z"
    },
    "trusted": true
   },
   "outputs": [],
   "source": [
    "torch.cuda.empty_cache()"
   ]
  },
  {
   "cell_type": "markdown",
   "metadata": {},
   "source": [
    "**Видим, что в предсказаниях для одних знаков часто встречаются названия других. \n",
    "Попробуем решить эту проблему путем упорядочивания датасета не по дате, а по знакам зодиака и обучим модель еще раз.**"
   ]
  },
  {
   "cell_type": "code",
   "execution_count": 17,
   "metadata": {
    "execution": {
     "iopub.execute_input": "2023-07-29T16:09:14.162281Z",
     "iopub.status.busy": "2023-07-29T16:09:14.161865Z",
     "iopub.status.idle": "2023-07-29T16:09:14.262630Z",
     "shell.execute_reply": "2023-07-29T16:09:14.261662Z",
     "shell.execute_reply.started": "2023-07-29T16:09:14.162246Z"
    },
    "trusted": true
   },
   "outputs": [],
   "source": [
    "df_sorted = df.sort_values(by=['sign'])"
   ]
  },
  {
   "cell_type": "code",
   "execution_count": 18,
   "metadata": {
    "execution": {
     "iopub.execute_input": "2023-07-29T16:09:29.624238Z",
     "iopub.status.busy": "2023-07-29T16:09:29.623066Z",
     "iopub.status.idle": "2023-07-29T16:09:29.639084Z",
     "shell.execute_reply": "2023-07-29T16:09:29.637831Z",
     "shell.execute_reply.started": "2023-07-29T16:09:29.624182Z"
    },
    "trusted": true
   },
   "outputs": [
    {
     "data": {
      "text/html": [
       "<div>\n",
       "<style scoped>\n",
       "    .dataframe tbody tr th:only-of-type {\n",
       "        vertical-align: middle;\n",
       "    }\n",
       "\n",
       "    .dataframe tbody tr th {\n",
       "        vertical-align: top;\n",
       "    }\n",
       "\n",
       "    .dataframe thead th {\n",
       "        text-align: right;\n",
       "    }\n",
       "</style>\n",
       "<table border=\"1\" class=\"dataframe\">\n",
       "  <thead>\n",
       "    <tr style=\"text-align: right;\">\n",
       "      <th></th>\n",
       "      <th>date</th>\n",
       "      <th>sign</th>\n",
       "      <th>text</th>\n",
       "    </tr>\n",
       "  </thead>\n",
       "  <tbody>\n",
       "    <tr>\n",
       "      <th>34486</th>\n",
       "      <td>2011-11-13</td>\n",
       "      <td>aquarius</td>\n",
       "      <td>В этот день не рекомендуется пускать дела на с...</td>\n",
       "    </tr>\n",
       "    <tr>\n",
       "      <th>65602</th>\n",
       "      <td>2019-10-20</td>\n",
       "      <td>aquarius</td>\n",
       "      <td>Сегодня комфорт Водолеев зависит от обстановки...</td>\n",
       "    </tr>\n",
       "    <tr>\n",
       "      <th>39934</th>\n",
       "      <td>2013-02-09</td>\n",
       "      <td>aquarius</td>\n",
       "      <td>Все будет отлично, если вы верите в себя и не ...</td>\n",
       "    </tr>\n",
       "    <tr>\n",
       "      <th>57574</th>\n",
       "      <td>2017-12-20</td>\n",
       "      <td>aquarius</td>\n",
       "      <td>Водолеев сегодня могут ждать не только интерес...</td>\n",
       "    </tr>\n",
       "    <tr>\n",
       "      <th>78754</th>\n",
       "      <td>2022-10-20</td>\n",
       "      <td>aquarius</td>\n",
       "      <td>Это удачный день, когда предложения будут стек...</td>\n",
       "    </tr>\n",
       "    <tr>\n",
       "      <th>...</th>\n",
       "      <td>...</td>\n",
       "      <td>...</td>\n",
       "      <td>...</td>\n",
       "    </tr>\n",
       "    <tr>\n",
       "      <th>7853</th>\n",
       "      <td>2005-10-16</td>\n",
       "      <td>virgo</td>\n",
       "      <td>Вам нелегко удается общаться с партнером откры...</td>\n",
       "    </tr>\n",
       "    <tr>\n",
       "      <th>20969</th>\n",
       "      <td>2008-10-13</td>\n",
       "      <td>virgo</td>\n",
       "      <td>Утром постарайтесь сосредоточиться на собствен...</td>\n",
       "    </tr>\n",
       "    <tr>\n",
       "      <th>39389</th>\n",
       "      <td>2012-12-26</td>\n",
       "      <td>virgo</td>\n",
       "      <td>Чтобы не совершить ошибку, Девам сегодня доста...</td>\n",
       "    </tr>\n",
       "    <tr>\n",
       "      <th>21065</th>\n",
       "      <td>2008-10-21</td>\n",
       "      <td>virgo</td>\n",
       "      <td>В дневное время интуиция подскажет вам, как пр...</td>\n",
       "    </tr>\n",
       "    <tr>\n",
       "      <th>65969</th>\n",
       "      <td>2019-11-20</td>\n",
       "      <td>virgo</td>\n",
       "      <td>Сегодня Девам предстоит исходить и из долга, и...</td>\n",
       "    </tr>\n",
       "  </tbody>\n",
       "</table>\n",
       "<p>82536 rows × 3 columns</p>\n",
       "</div>"
      ],
      "text/plain": [
       "             date      sign                                               text\n",
       "34486  2011-11-13  aquarius  В этот день не рекомендуется пускать дела на с...\n",
       "65602  2019-10-20  aquarius  Сегодня комфорт Водолеев зависит от обстановки...\n",
       "39934  2013-02-09  aquarius  Все будет отлично, если вы верите в себя и не ...\n",
       "57574  2017-12-20  aquarius  Водолеев сегодня могут ждать не только интерес...\n",
       "78754  2022-10-20  aquarius  Это удачный день, когда предложения будут стек...\n",
       "...           ...       ...                                                ...\n",
       "7853   2005-10-16     virgo  Вам нелегко удается общаться с партнером откры...\n",
       "20969  2008-10-13     virgo  Утром постарайтесь сосредоточиться на собствен...\n",
       "39389  2012-12-26     virgo  Чтобы не совершить ошибку, Девам сегодня доста...\n",
       "21065  2008-10-21     virgo  В дневное время интуиция подскажет вам, как пр...\n",
       "65969  2019-11-20     virgo  Сегодня Девам предстоит исходить и из долга, и...\n",
       "\n",
       "[82536 rows x 3 columns]"
      ]
     },
     "execution_count": 18,
     "metadata": {},
     "output_type": "execute_result"
    }
   ],
   "source": [
    "df_sorted"
   ]
  },
  {
   "cell_type": "code",
   "execution_count": 20,
   "metadata": {
    "execution": {
     "iopub.execute_input": "2023-07-29T16:10:04.438635Z",
     "iopub.status.busy": "2023-07-29T16:10:04.438258Z",
     "iopub.status.idle": "2023-07-29T16:10:04.505453Z",
     "shell.execute_reply": "2023-07-29T16:10:04.504215Z",
     "shell.execute_reply.started": "2023-07-29T16:10:04.438603Z"
    },
    "trusted": true
   },
   "outputs": [],
   "source": [
    "text_sorted = ' '.join(df['text'].values)"
   ]
  },
  {
   "cell_type": "code",
   "execution_count": 21,
   "metadata": {
    "execution": {
     "iopub.execute_input": "2023-07-29T16:10:08.284997Z",
     "iopub.status.busy": "2023-07-29T16:10:08.284597Z",
     "iopub.status.idle": "2023-07-29T16:11:16.189752Z",
     "shell.execute_reply": "2023-07-29T16:11:16.188672Z",
     "shell.execute_reply.started": "2023-07-29T16:10:08.284965Z"
    },
    "trusted": true
   },
   "outputs": [
    {
     "name": "stdout",
     "output_type": "stream",
     "text": [
      "6668406\n"
     ]
    },
    {
     "data": {
      "text/plain": [
       "array([37653,   839, 39588,   567,  1054,  4912,  2493,   329,   379,\n",
       "         297])"
      ]
     },
     "execution_count": 21,
     "metadata": {},
     "output_type": "execute_result"
    }
   ],
   "source": [
    "tokens_sorted = tokenizer.encode(text_sorted, add_special_tokens=True)\n",
    "tokens_sorted = np.array(tokens_sorted)\n",
    "print(len(tokens_sorted))\n",
    "tokens_sorted[:10]"
   ]
  },
  {
   "cell_type": "code",
   "execution_count": 22,
   "metadata": {
    "execution": {
     "iopub.execute_input": "2023-07-29T16:11:16.192933Z",
     "iopub.status.busy": "2023-07-29T16:11:16.192233Z",
     "iopub.status.idle": "2023-07-29T16:11:17.440599Z",
     "shell.execute_reply": "2023-07-29T16:11:17.439552Z",
     "shell.execute_reply.started": "2023-07-29T16:11:16.192897Z"
    },
    "trusted": true
   },
   "outputs": [
    {
     "name": "stdout",
     "output_type": "stream",
     "text": [
      "6668406 5334720 1333680\n"
     ]
    }
   ],
   "source": [
    "l = len(tokens_sorted)//15\n",
    "train = []\n",
    "test = []\n",
    "for i in range(15):\n",
    "    if i%5 > 0:\n",
    "        train.extend(tokens_sorted[i*l: (i+1)*l])\n",
    "    else:\n",
    "        test.extend(tokens_sorted[i*l: (i+1)*l])\n",
    "train = np.array(train)\n",
    "test = np.array(test)\n",
    "\n",
    "print(len(tokens_sorted), len(train), len(test))"
   ]
  },
  {
   "cell_type": "code",
   "execution_count": 23,
   "metadata": {
    "execution": {
     "iopub.execute_input": "2023-07-29T16:11:17.442801Z",
     "iopub.status.busy": "2023-07-29T16:11:17.442187Z",
     "iopub.status.idle": "2023-07-29T16:11:22.830510Z",
     "shell.execute_reply": "2023-07-29T16:11:22.829409Z",
     "shell.execute_reply.started": "2023-07-29T16:11:17.442763Z"
    },
    "trusted": true
   },
   "outputs": [
    {
     "data": {
      "text/plain": [
       "GPT2LMHeadModel(\n",
       "  (transformer): GPT2Model(\n",
       "    (wte): Embedding(50264, 768)\n",
       "    (wpe): Embedding(2048, 768)\n",
       "    (drop): Dropout(p=0.1, inplace=False)\n",
       "    (h): ModuleList(\n",
       "      (0-11): 12 x GPT2Block(\n",
       "        (ln_1): LayerNorm((768,), eps=1e-05, elementwise_affine=True)\n",
       "        (attn): GPT2Attention(\n",
       "          (c_attn): Conv1D()\n",
       "          (c_proj): Conv1D()\n",
       "          (attn_dropout): Dropout(p=0.1, inplace=False)\n",
       "          (resid_dropout): Dropout(p=0.1, inplace=False)\n",
       "        )\n",
       "        (ln_2): LayerNorm((768,), eps=1e-05, elementwise_affine=True)\n",
       "        (mlp): GPT2MLP(\n",
       "          (c_fc): Conv1D()\n",
       "          (c_proj): Conv1D()\n",
       "          (act): NewGELUActivation()\n",
       "          (dropout): Dropout(p=0.1, inplace=False)\n",
       "        )\n",
       "      )\n",
       "    )\n",
       "    (ln_f): LayerNorm((768,), eps=1e-05, elementwise_affine=True)\n",
       "  )\n",
       "  (lm_head): Linear(in_features=768, out_features=50264, bias=False)\n",
       ")"
      ]
     },
     "execution_count": 23,
     "metadata": {},
     "output_type": "execute_result"
    }
   ],
   "source": [
    "model = GPT2LMHeadModel.from_pretrained(\n",
    "    'sberbank-ai/rugpt3small_based_on_gpt2',\n",
    "    output_attentions = False,\n",
    "    output_hidden_states = False,\n",
    ")\n",
    "\n",
    "model.to(device)"
   ]
  },
  {
   "cell_type": "code",
   "execution_count": 24,
   "metadata": {
    "execution": {
     "iopub.execute_input": "2023-07-29T16:11:22.833521Z",
     "iopub.status.busy": "2023-07-29T16:11:22.833055Z",
     "iopub.status.idle": "2023-07-29T16:11:22.842423Z",
     "shell.execute_reply": "2023-07-29T16:11:22.841265Z",
     "shell.execute_reply.started": "2023-07-29T16:11:22.833488Z"
    },
    "trusted": true
   },
   "outputs": [
    {
     "name": "stdout",
     "output_type": "stream",
     "text": [
      "5209 1302\n"
     ]
    }
   ],
   "source": [
    "batch_size = 8\n",
    "max_len = 128\n",
    "epochs = 5\n",
    "\n",
    "n_train = len(train)//(batch_size*max_len)\n",
    "n_test = len(test)//(batch_size*max_len)\n",
    "print(n_train, n_test)"
   ]
  },
  {
   "cell_type": "code",
   "execution_count": 25,
   "metadata": {
    "execution": {
     "iopub.execute_input": "2023-07-29T16:11:22.844634Z",
     "iopub.status.busy": "2023-07-29T16:11:22.844301Z",
     "iopub.status.idle": "2023-07-29T16:11:22.856130Z",
     "shell.execute_reply": "2023-07-29T16:11:22.855171Z",
     "shell.execute_reply.started": "2023-07-29T16:11:22.844604Z"
    },
    "trusted": true
   },
   "outputs": [],
   "source": [
    "optimizer = AdamW(model.parameters(), lr = 1e-5)\n",
    "\n",
    "total_steps = n_train * epochs\n",
    "scheduler = transformers.get_linear_schedule_with_warmup(\n",
    "                                            optimizer,\n",
    "                                            num_warmup_steps=500,\n",
    "                                            num_training_steps=total_steps)\n",
    "\n",
    "\n",
    "def accuracy(y_true, logits):\n",
    "    return torch.mean((y_true[1:] == torch.argmax(logits, dim=2)[:-1]).float()).detach().cpu().numpy()"
   ]
  },
  {
   "cell_type": "code",
   "execution_count": 26,
   "metadata": {
    "execution": {
     "iopub.execute_input": "2023-07-29T16:11:22.858029Z",
     "iopub.status.busy": "2023-07-29T16:11:22.857663Z",
     "iopub.status.idle": "2023-07-29T16:11:22.867595Z",
     "shell.execute_reply": "2023-07-29T16:11:22.866599Z",
     "shell.execute_reply.started": "2023-07-29T16:11:22.857997Z"
    },
    "trusted": true
   },
   "outputs": [],
   "source": [
    "def prep_tensors(x, i, batch_size=batch_size, max_len=max_len):\n",
    "    batch_ids = x[i*batch_size*max_len: (i+1)*batch_size*max_len]\n",
    "    batch_ids = batch_ids.reshape(batch_size, max_len)\n",
    "    batch_ids = torch.tensor(batch_ids).to(device)\n",
    "    return batch_ids"
   ]
  },
  {
   "cell_type": "code",
   "execution_count": 27,
   "metadata": {
    "execution": {
     "iopub.execute_input": "2023-07-29T16:11:22.868903Z",
     "iopub.status.busy": "2023-07-29T16:11:22.868644Z",
     "iopub.status.idle": "2023-07-29T17:31:10.439714Z",
     "shell.execute_reply": "2023-07-29T17:31:10.438558Z",
     "shell.execute_reply.started": "2023-07-29T16:11:22.868880Z"
    },
    "trusted": true
   },
   "outputs": [
    {
     "name": "stdout",
     "output_type": "stream",
     "text": [
      "epoch 1/5 : training\n"
     ]
    },
    {
     "data": {
      "application/vnd.jupyter.widget-view+json": {
       "model_id": "ef864b914af74af89a4103b0f41e173e",
       "version_major": 2,
       "version_minor": 0
      },
      "text/plain": [
       "  0%|          | 0/5209 [00:00<?, ?it/s]"
      ]
     },
     "metadata": {},
     "output_type": "display_data"
    },
    {
     "name": "stdout",
     "output_type": "stream",
     "text": [
      "epoch 1/5 : validation\n"
     ]
    },
    {
     "data": {
      "application/vnd.jupyter.widget-view+json": {
       "model_id": "58f645820950455ca7617dcf3e40460a",
       "version_major": 2,
       "version_minor": 0
      },
      "text/plain": [
       "  0%|          | 0/1302 [00:00<?, ?it/s]"
      ]
     },
     "metadata": {},
     "output_type": "display_data"
    },
    {
     "name": "stdout",
     "output_type": "stream",
     "text": [
      "epoch 2/5 : training\n"
     ]
    },
    {
     "data": {
      "application/vnd.jupyter.widget-view+json": {
       "model_id": "cb389ab55d1249c09516e2b677c6605a",
       "version_major": 2,
       "version_minor": 0
      },
      "text/plain": [
       "  0%|          | 0/5209 [00:00<?, ?it/s]"
      ]
     },
     "metadata": {},
     "output_type": "display_data"
    },
    {
     "name": "stdout",
     "output_type": "stream",
     "text": [
      "epoch 2/5 : validation\n"
     ]
    },
    {
     "data": {
      "application/vnd.jupyter.widget-view+json": {
       "model_id": "dbba4e01e5e742aaaddfa37fd2021ea2",
       "version_major": 2,
       "version_minor": 0
      },
      "text/plain": [
       "  0%|          | 0/1302 [00:00<?, ?it/s]"
      ]
     },
     "metadata": {},
     "output_type": "display_data"
    },
    {
     "name": "stdout",
     "output_type": "stream",
     "text": [
      "epoch 3/5 : training\n"
     ]
    },
    {
     "data": {
      "application/vnd.jupyter.widget-view+json": {
       "model_id": "ad0e873ad6584155befe8e1854b6d389",
       "version_major": 2,
       "version_minor": 0
      },
      "text/plain": [
       "  0%|          | 0/5209 [00:00<?, ?it/s]"
      ]
     },
     "metadata": {},
     "output_type": "display_data"
    },
    {
     "name": "stdout",
     "output_type": "stream",
     "text": [
      "epoch 3/5 : validation\n"
     ]
    },
    {
     "data": {
      "application/vnd.jupyter.widget-view+json": {
       "model_id": "82950acbed044da1ad4f3cfc8a8215cb",
       "version_major": 2,
       "version_minor": 0
      },
      "text/plain": [
       "  0%|          | 0/1302 [00:00<?, ?it/s]"
      ]
     },
     "metadata": {},
     "output_type": "display_data"
    },
    {
     "name": "stdout",
     "output_type": "stream",
     "text": [
      "epoch 4/5 : training\n"
     ]
    },
    {
     "data": {
      "application/vnd.jupyter.widget-view+json": {
       "model_id": "dfce14a5113f4856a7af850cfbf06db7",
       "version_major": 2,
       "version_minor": 0
      },
      "text/plain": [
       "  0%|          | 0/5209 [00:00<?, ?it/s]"
      ]
     },
     "metadata": {},
     "output_type": "display_data"
    },
    {
     "name": "stdout",
     "output_type": "stream",
     "text": [
      "epoch 4/5 : validation\n"
     ]
    },
    {
     "data": {
      "application/vnd.jupyter.widget-view+json": {
       "model_id": "82105bf1875b41a19bb899e39d1753e5",
       "version_major": 2,
       "version_minor": 0
      },
      "text/plain": [
       "  0%|          | 0/1302 [00:00<?, ?it/s]"
      ]
     },
     "metadata": {},
     "output_type": "display_data"
    },
    {
     "name": "stdout",
     "output_type": "stream",
     "text": [
      "epoch 5/5 : training\n"
     ]
    },
    {
     "data": {
      "application/vnd.jupyter.widget-view+json": {
       "model_id": "ec243480c85c4b78b5b66d86ff88c0c4",
       "version_major": 2,
       "version_minor": 0
      },
      "text/plain": [
       "  0%|          | 0/5209 [00:00<?, ?it/s]"
      ]
     },
     "metadata": {},
     "output_type": "display_data"
    },
    {
     "name": "stdout",
     "output_type": "stream",
     "text": [
      "epoch 5/5 : validation\n"
     ]
    },
    {
     "data": {
      "application/vnd.jupyter.widget-view+json": {
       "model_id": "a1c24173cd2241bfb0b2e553fdf9c003",
       "version_major": 2,
       "version_minor": 0
      },
      "text/plain": [
       "  0%|          | 0/1302 [00:00<?, ?it/s]"
      ]
     },
     "metadata": {},
     "output_type": "display_data"
    }
   ],
   "source": [
    "for epoch in range(1, epochs+1):\n",
    "    print(f'epoch {epoch}/{epochs} : training')\n",
    "\n",
    "    train_loss = []\n",
    "    train_acc = []\n",
    "    model.train()\n",
    "    pbar = tqdm(range(n_train))\n",
    "    for i in pbar:\n",
    "        batch_ids = prep_tensors(train, i)\n",
    "\n",
    "        model.zero_grad()\n",
    "        loss, logits, _ = model(batch_ids,\n",
    "                                token_type_ids=None,\n",
    "                                labels=batch_ids\n",
    "                             ).values()\n",
    "\n",
    "        loss.backward()\n",
    "        torch.nn.utils.clip_grad_norm_(model.parameters(), 1.0)\n",
    "        optimizer.step()\n",
    "        scheduler.step()\n",
    "\n",
    "        train_loss.append(loss.item())\n",
    "        train_acc.append(accuracy(batch_ids, logits))\n",
    "        pbar.set_description(f'acc {np.mean(train_acc):.4f} loss {np.mean(train_loss):.4f}', refresh=True)\n",
    "\n",
    "    torch.save(model.state_dict(), f'model{epoch}.pt')\n",
    "    torch.save(model, f'entire_model{epoch}.pt')\n",
    "\n",
    "    print(f'epoch {epoch}/{epochs} : validation')\n",
    "    model.eval()\n",
    "    val_acc = []\n",
    "    val_loss = []\n",
    "    pbar = tqdm(range(n_test))\n",
    "    for i in pbar:\n",
    "        batch_ids = prep_tensors(test, i)\n",
    "        with torch.no_grad():\n",
    "            loss, logits, _ = model(batch_ids,\n",
    "                                token_type_ids=None,\n",
    "                                labels=batch_ids\n",
    "                                 ).values()\n",
    "\n",
    "        val_loss.append(loss.item())\n",
    "        val_acc.append(accuracy(batch_ids, logits))\n",
    "        pbar.set_description(f'acc {np.mean(val_acc):.4f} loss {np.mean(val_loss):.4f}', refresh=True)\n"
   ]
  },
  {
   "cell_type": "code",
   "execution_count": 67,
   "metadata": {
    "execution": {
     "iopub.execute_input": "2023-07-29T18:07:38.372174Z",
     "iopub.status.busy": "2023-07-29T18:07:38.371072Z",
     "iopub.status.idle": "2023-07-29T18:07:40.259909Z",
     "shell.execute_reply": "2023-07-29T18:07:40.258834Z",
     "shell.execute_reply.started": "2023-07-29T18:07:38.372104Z"
    },
    "trusted": true
   },
   "outputs": [
    {
     "name": "stderr",
     "output_type": "stream",
     "text": [
      "The attention mask and the pad token id were not set. As a consequence, you may observe unexpected behavior. Please pass your input's `attention_mask` to obtain reliable results.\n",
      "Setting `pad_token_id` to `eos_token_id`:50256 for open-end generation.\n"
     ]
    },
    {
     "name": "stdout",
     "output_type": "stream",
     "text": [
      "Близнецы в этот день склонны действовать в согласии со своей интуицией. В то же время не стоит\n",
      "забывать и о своих целях. Если вы не доверяете своим чувствам и интересам, лучше не поддаваться\n",
      "импульсу и не делать поспешных выводов. Стоит избегать необдуманных поступков, необузданного\n",
      "эгоизма, чрезмерной чувствительности.\n",
      "------------------\n",
      "Близнецы сегодня могут позволить себе больше, чем обычно. Не стоит поддаваться искушению взять что-\n",
      "то в кредит или вложить средства в сомнительную авантюру. День хорош для отдыха, общения,\n",
      "романтического свидания, семейных торжеств, помолвки или бракосочетания, а также для семейных\n",
      "вечеров, приема гостей.\n",
      "------------------\n",
      "Близнецы могут столкнуться с непониманием со стороны других людей из-за их холодности или\n",
      "подозрительности. Вы можете быть не согласны с тем, что происходит в доме, семье, в отношениях с\n",
      "родителями, домочадцами, а также с мнением друзей о вас. Это не лучший момент для выяснения\n",
      "отношений, особенно с теми, кого вы любите или уважаете.\n",
      "------------------\n",
      "Близнецы могут надеяться на улучшение материального положения, удачный исход финансовых дел, прибыль\n",
      "от прежних финансовых вложений. Возможна большая удача в контактах с иностранцами или иногородними.\n",
      "День благоприятен для визитов в инстанции, поиска понимания и финансовой поддержки. Возможно\n",
      "возобновление старых связей и переход их в разряд наиболее перспективных, перспективных.\n",
      "------------------\n"
     ]
    }
   ],
   "source": [
    "with torch.inference_mode():\n",
    "    prompt = \"\"\"Близнецы\"\"\"\n",
    "    prompt = tokenizer.encode(prompt, return_tensors='pt').to(device)\n",
    "    out = model.generate(\n",
    "        input_ids=prompt,\n",
    "        max_length=80,\n",
    "        num_beams=5,\n",
    "        do_sample=True,\n",
    "        temperature=1.5,\n",
    "        top_k=80,\n",
    "        top_p=0.8,\n",
    "        no_repeat_ngram_size=2,\n",
    "        num_return_sequences=5,\n",
    "        ).cpu().numpy()\n",
    "    for out_ in out:\n",
    "        txt = textwrap.fill(tokenizer.decode(out_), 100)\n",
    "        if 'рожден' not in txt: # фильтруем фразы типа \"Львам, рожденным в январе\", \"Львам, рожденным под знаком Льва\"\n",
    "            print('.'.join(txt.split('.')[:-1]) + '.', end='\\n------------------\\n')"
   ]
  },
  {
   "cell_type": "code",
   "execution_count": null,
   "metadata": {},
   "outputs": [],
   "source": []
  }
 ],
 "metadata": {
  "kernelspec": {
   "display_name": "Python 3",
   "language": "python",
   "name": "python3"
  },
  "language_info": {
   "codemirror_mode": {
    "name": "ipython",
    "version": 3
   },
   "file_extension": ".py",
   "mimetype": "text/x-python",
   "name": "python",
   "nbconvert_exporter": "python",
   "pygments_lexer": "ipython3",
   "version": "3.10.12"
  }
 },
 "nbformat": 4,
 "nbformat_minor": 4
}
